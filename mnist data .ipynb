{
 "cells": [
  {
   "cell_type": "code",
   "execution_count": 20,
   "metadata": {},
   "outputs": [
    {
     "ename": "ModuleNotFoundError",
     "evalue": "No module named 'tenserflow'",
     "output_type": "error",
     "traceback": [
      "\u001b[1;31m---------------------------------------------------------------------------\u001b[0m",
      "\u001b[1;31mModuleNotFoundError\u001b[0m                       Traceback (most recent call last)",
      "\u001b[1;32m<ipython-input-20-c1b1003fecd2>\u001b[0m in \u001b[0;36m<module>\u001b[1;34m\u001b[0m\n\u001b[0;32m      1\u001b[0m \u001b[1;31m#!pip install tensorflow\u001b[0m\u001b[1;33m\u001b[0m\u001b[1;33m\u001b[0m\u001b[1;33m\u001b[0m\u001b[0m\n\u001b[0;32m      2\u001b[0m \u001b[1;31m#!pip install keras\u001b[0m\u001b[1;33m\u001b[0m\u001b[1;33m\u001b[0m\u001b[1;33m\u001b[0m\u001b[0m\n\u001b[1;32m----> 3\u001b[1;33m \u001b[1;32mimport\u001b[0m \u001b[0mtenserflow\u001b[0m\u001b[1;33m.\u001b[0m\u001b[0mkeras\u001b[0m\u001b[1;33m\u001b[0m\u001b[1;33m\u001b[0m\u001b[0m\n\u001b[0m",
      "\u001b[1;31mModuleNotFoundError\u001b[0m: No module named 'tenserflow'"
     ]
    }
   ],
   "source": [
    "!pip install tensorflow\n",
    "!pip install keras"
   ]
  },
  {
   "cell_type": "code",
   "execution_count": 25,
   "metadata": {},
   "outputs": [
    {
     "name": "stdout",
     "output_type": "stream",
     "text": [
      "(60000, 28, 28)\n",
      "(60000,)\n",
      "(10000, 28, 28)\n",
      "(10000,)\n"
     ]
    }
   ],
   "source": [
    "#import data\n",
    "from tensorflow.keras.datasets import mnist\n",
    "(xtrain,ytrain),(xtest,ytest)=mnist.load_data()\n",
    "print(xtrain.shape)\n",
    "print(ytrain.shape)\n",
    "print(xtest.shape)\n",
    "print(ytest.shape)"
   ]
  },
  {
   "cell_type": "code",
   "execution_count": 26,
   "metadata": {},
   "outputs": [
    {
     "data": {
      "image/png": "[encoded data removed]",
      "text/plain": [
       "<Figure size 432x288 with 1 Axes>"
      ]
     },
     "metadata": {
      "needs_background": "light"
     },
     "output_type": "display_data"
    }
   ],
   "source": [
    "import matplotlib.pyplot as plt\n",
    "plt.imshow(xtrain[58000],cmap='gray')\n",
    "plt.show()"
   ]
  },
  {
   "cell_type": "code",
   "execution_count": 27,
   "metadata": {},
   "outputs": [
    {
     "data": {
      "text/plain": [
       "2"
      ]
     },
     "execution_count": 27,
     "metadata": {},
     "output_type": "execute_result"
    }
   ],
   "source": [
    "ytrain[58000]"
   ]
  },
  {
   "cell_type": "code",
   "execution_count": 28,
   "metadata": {},
   "outputs": [],
   "source": [
    "#input neurons =28*28=784\n",
    "#output neurons"
   ]
  },
  {
   "cell_type": "code",
   "execution_count": 29,
   "metadata": {},
   "outputs": [
    {
     "name": "stdout",
     "output_type": "stream",
     "text": [
      "(60000, 10)\n",
      "(10000, 10)\n"
     ]
    }
   ],
   "source": [
    "#one hot encoding\n",
    "#when having multiple values then encoding is done for both test case and train case to avoid multiple predictions \n",
    "from tensorflow.keras.utils import to_categorical\n",
    "ytrain =to_categorical(ytrain)\n",
    "ytest=to_categorical(ytest)\n",
    "print(ytrain.shape)\n",
    "print(ytest.shape)"
   ]
  },
  {
   "cell_type": "code",
   "execution_count": 30,
   "metadata": {},
   "outputs": [],
   "source": [
    "from tensorflow.keras import models,layers"
   ]
  },
  {
   "cell_type": "code",
   "execution_count": 34,
   "metadata": {},
   "outputs": [],
   "source": [
    "model=models.Sequential()#it makes an empty neural network\n",
    "#add input layer-add a flattern layer>>28*28>>1*784\n",
    "model.add(layers.Flatten(input_shape=(28,28)))#flatten the data into 1,784 figure to pass through\n",
    "\n",
    "#add a hidden layer\n",
    "model.add(layers.Dense(100,activation='relu'))\n",
    "\n",
    "#add a hidden layer\n",
    "model.add(layers.Dense(50,activation='relu'))\n",
    "\n",
    "#add output layer\n",
    "model.add(layers.Dense(10,activation='softmax'))#softmax used for multiclasses \n",
    "#dense =weightedsum actiavtion function performed by this"
   ]
  },
  {
   "cell_type": "code",
   "execution_count": 35,
   "metadata": {},
   "outputs": [
    {
     "name": "stdout",
     "output_type": "stream",
     "text": [
      "Train on 60000 samples, validate on 10000 samples\n",
      "Epoch 1/10\n",
      "60000/60000 [==============================] - 2s 36us/sample - loss: 13.9321 - accuracy: 0.6774 - val_loss: 2.6904 - val_accuracy: 0.8412\n",
      "Epoch 2/10\n",
      "60000/60000 [==============================] - 1s 16us/sample - loss: 1.9780 - accuracy: 0.8593 - val_loss: 1.6338 - val_accuracy: 0.8823\n",
      "Epoch 3/10\n",
      "60000/60000 [==============================] - 1s 20us/sample - loss: 1.2334 - accuracy: 0.8887 - val_loss: 1.2279 - val_accuracy: 0.8910\n",
      "Epoch 4/10\n",
      "60000/60000 [==============================] - 1s 19us/sample - loss: 0.8828 - accuracy: 0.9046 - val_loss: 0.9726 - val_accuracy: 0.9049\n",
      "Epoch 5/10\n",
      "60000/60000 [==============================] - 2s 29us/sample - loss: 0.6786 - accuracy: 0.9177 - val_loss: 0.8559 - val_accuracy: 0.9088\n",
      "Epoch 6/10\n",
      "60000/60000 [==============================] - 2s 30us/sample - loss: 0.5504 - accuracy: 0.9244 - val_loss: 0.7700 - val_accuracy: 0.9174\n",
      "Epoch 7/10\n",
      "60000/60000 [==============================] - 2s 29us/sample - loss: 0.4558 - accuracy: 0.9319 - val_loss: 0.6970 - val_accuracy: 0.9196\n",
      "Epoch 8/10\n",
      "60000/60000 [==============================] - 1s 17us/sample - loss: 0.3870 - accuracy: 0.9383 - val_loss: 0.6476 - val_accuracy: 0.9229\n",
      "Epoch 9/10\n",
      "60000/60000 [==============================] - 1s 16us/sample - loss: 0.3291 - accuracy: 0.9429 - val_loss: 0.6173 - val_accuracy: 0.9248\n",
      "Epoch 10/10\n",
      "60000/60000 [==============================] - 1s 16us/sample - loss: 0.2780 - accuracy: 0.9492 - val_loss: 0.5961 - val_accuracy: 0.9246\n"
     ]
    },
    {
     "data": {
      "text/plain": [
       "<tensorflow.python.keras.callbacks.History at 0x2603e0c64a8>"
      ]
     },
     "execution_count": 35,
     "metadata": {},
     "output_type": "execute_result"
    }
   ],
   "source": [
    "#compile ANN\n",
    "model.compile(loss='categorical_crossentropy',optimizer='adam',metrics=['accuracy'])\n",
    "#on optmizier the loss avove is the error calculation which is done by adam to reduce it\n",
    "#train ANN\n",
    "model.fit(xtrain,ytrain,epochs=10,batch_size=1000,verbose=True,validation_data=(xtest,ytest))"
   ]
  },
  {
   "cell_type": "code",
   "execution_count": 36,
   "metadata": {},
   "outputs": [
    {
     "name": "stdout",
     "output_type": "stream",
     "text": [
      "Model: \"sequential_3\"\n",
      "_________________________________________________________________\n",
      "Layer (type)                 Output Shape              Param #   \n",
      "=================================================================\n",
      "flatten_3 (Flatten)          (None, 784)               0         \n",
      "_________________________________________________________________\n",
      "dense_3 (Dense)              (None, 100)               78500     \n",
      "_________________________________________________________________\n",
      "dense_4 (Dense)              (None, 50)                5050      \n",
      "_________________________________________________________________\n",
      "dense_5 (Dense)              (None, 10)                510       \n",
      "=================================================================\n",
      "Total params: 84,060\n",
      "Trainable params: 84,060\n",
      "Non-trainable params: 0\n",
      "_________________________________________________________________\n"
     ]
    }
   ],
   "source": [
    "model.summary()"
   ]
  },
  {
   "cell_type": "code",
   "execution_count": null,
   "metadata": {},
   "outputs": [],
   "source": []
  }
 ],
 "metadata": {
  "kernelspec": {
   "display_name": "Python 3",
   "language": "python",
   "name": "python3"
  },
  "language_info": {
   "codemirror_mode": {
    "name": "ipython",
    "version": 3
   },
   "file_extension": ".py",
   "mimetype": "text/x-python",
   "name": "python",
   "nbconvert_exporter": "python",
   "pygments_lexer": "ipython3",
   "version": "3.7.3"
  }
 },
 "nbformat": 4,
 "nbformat_minor": 2
}

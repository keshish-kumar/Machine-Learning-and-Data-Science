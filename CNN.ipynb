{
 "cells": [
  {
   "cell_type": "code",
   "execution_count": 1,
   "metadata": {},
   "outputs": [
    {
     "name": "stdout",
     "output_type": "stream",
     "text": [
      "Downloading data from https://storage.googleapis.com/tensorflow/tf-keras-datasets/train-labels-idx1-ubyte.gz\n",
      "32768/29515 [=================================] - 0s 4us/step\n",
      "Downloading data from https://storage.googleapis.com/tensorflow/tf-keras-datasets/train-images-idx3-ubyte.gz\n",
      "26427392/26421880 [==============================] - 9s 0us/step\n",
      "Downloading data from https://storage.googleapis.com/tensorflow/tf-keras-datasets/t10k-labels-idx1-ubyte.gz\n",
      "8192/5148 [===============================================] - 0s 2us/step\n",
      "Downloading data from https://storage.googleapis.com/tensorflow/tf-keras-datasets/t10k-images-idx3-ubyte.gz\n",
      "4423680/4422102 [==============================] - 2s 0us/step\n",
      "(60000, 28, 28)\n",
      "(60000,)\n",
      "(10000, 28, 28)\n",
      "(10000,)\n"
     ]
    }
   ],
   "source": [
    "from tensorflow.keras.datasets import fashion_mnist\n",
    "import matplotlib.pyplot as plt\n",
    "(xtrain,ytrain),(xtest,ytest)=fashion_mnist.load_data()\n",
    "print(xtrain.shape)#getting the fashion dataset from tensor flow\n",
    "print(ytrain.shape)\n",
    "print(xtest.shape)\n",
    "print(ytest.shape)"
   ]
  },
  {
   "cell_type": "code",
   "execution_count": 4,
   "metadata": {},
   "outputs": [],
   "source": [
    "class_names = ['T-shirt/top', 'Trouser', 'Pullover', 'Dress', 'Coat',\n",
    "'Sandal', 'Shirt', 'Sneaker', 'Bag', 'Ankle boot']#declaring the names in column_name from the dataset"
   ]
  },
  {
   "cell_type": "code",
   "execution_count": 5,
   "metadata": {},
   "outputs": [
    {
     "data": {
      "image/png": "[encoded data removed]",
      "text/plain": [
       "<Figure size 432x288 with 1 Axes>"
      ]
     },
     "metadata": {
      "needs_background": "light"
     },
     "output_type": "display_data"
    }
   ],
   "source": [
    "plt.imshow(xtrain[22000],cmap='gray')\n",
    "plt.show()"
   ]
  },
  {
   "cell_type": "code",
   "execution_count": 6,
   "metadata": {},
   "outputs": [
    {
     "data": {
      "text/plain": [
       "'Dress'"
      ]
     },
     "execution_count": 6,
     "metadata": {},
     "output_type": "execute_result"
    }
   ],
   "source": [
    "class_names[ytrain[22000]]"
   ]
  },
  {
   "cell_type": "code",
   "execution_count": 8,
   "metadata": {},
   "outputs": [
    {
     "name": "stdout",
     "output_type": "stream",
     "text": [
      "(60000, 28, 28, 1)\n",
      "(10000, 28, 28, 1)\n"
     ]
    }
   ],
   "source": [
    "xtrain=xtrain.reshape(60000,28,28,1)\n",
    "xtest=xtest.reshape(10000,28,28,1)\n",
    "print(xtrain.shape)\n",
    "print(xtest.shape)"
   ]
  },
  {
   "cell_type": "code",
   "execution_count": 10,
   "metadata": {},
   "outputs": [
    {
     "name": "stdout",
     "output_type": "stream",
     "text": [
      "(60000, 10)\n",
      "(10000, 10)\n"
     ]
    }
   ],
   "source": [
    "from tensorflow.keras.utils import to_categorical\n",
    "ytrain=to_categorical(ytrain)\n",
    "ytest=to_categorical(ytest)\n",
    "print(ytrain.shape)\n",
    "print(ytest.shape)"
   ]
  },
  {
   "cell_type": "markdown",
   "metadata": {},
   "source": [
    "# Convolutional neural network"
   ]
  },
  {
   "cell_type": "code",
   "execution_count": 11,
   "metadata": {},
   "outputs": [],
   "source": [
    "from tensorflow.keras import models,layers"
   ]
  },
  {
   "cell_type": "code",
   "execution_count": 16,
   "metadata": {},
   "outputs": [],
   "source": [
    "#initialize CNN\n",
    "model=models.Sequential()\n",
    "\n",
    "#add first convolutional layer\n",
    "model.add(layers.Conv2D(filters=10,kernel_size=(3,3),input_shape=(28,28,1),\n",
    "                       activation='relu'))\n",
    "model.add(layers.Conv2D(filters=20,kernel_size=(3,3),input_shape=(28,28,1),\n",
    "                       activation='relu'))\n",
    "#adding a pooling layer\n",
    "model.add(layers.MaxPooling2D(pool_size=(2,2)))\n",
    "\n",
    "#add a flatten layer to shift classification problem\n",
    "model.add(layers.Flatten())\n",
    "\n",
    "#add a hidden layer with 100 neurons\n",
    "model.add(layers.Dense(200,activation='relu'))\n",
    "model.add(layers.Dense(120,activation='relu'))\n",
    "#add a output layer\n",
    "model.add(layers.Dense(10,activation='softmax'))"
   ]
  },
  {
   "cell_type": "code",
   "execution_count": 17,
   "metadata": {},
   "outputs": [
    {
     "name": "stdout",
     "output_type": "stream",
     "text": [
      "Train on 60000 samples, validate on 10000 samples\n",
      "Epoch 1/10\n",
      "60000/60000 [==============================] - 29s 484us/sample - loss: 3.5708 - accuracy: 0.6793 - val_loss: 0.5624 - val_accuracy: 0.8126\n",
      "Epoch 2/10\n",
      "60000/60000 [==============================] - 28s 467us/sample - loss: 0.4420 - accuracy: 0.8477 - val_loss: 0.4329 - val_accuracy: 0.8547\n",
      "Epoch 3/10\n",
      "60000/60000 [==============================] - 28s 467us/sample - loss: 0.3387 - accuracy: 0.8802 - val_loss: 0.3751 - val_accuracy: 0.8679\n",
      "Epoch 4/10\n",
      "60000/60000 [==============================] - 28s 474us/sample - loss: 0.2815 - accuracy: 0.9001 - val_loss: 0.3591 - val_accuracy: 0.8721\n",
      "Epoch 5/10\n",
      "60000/60000 [==============================] - 31s 510us/sample - loss: 0.2452 - accuracy: 0.9111 - val_loss: 0.3499 - val_accuracy: 0.8765\n",
      "Epoch 6/10\n",
      "60000/60000 [==============================] - 31s 523us/sample - loss: 0.2091 - accuracy: 0.9250 - val_loss: 0.3285 - val_accuracy: 0.8864\n",
      "Epoch 7/10\n",
      "60000/60000 [==============================] - 31s 520us/sample - loss: 0.1825 - accuracy: 0.9339 - val_loss: 0.3325 - val_accuracy: 0.8894\n",
      "Epoch 8/10\n",
      "60000/60000 [==============================] - 31s 516us/sample - loss: 0.1608 - accuracy: 0.9426 - val_loss: 0.3312 - val_accuracy: 0.8904\n",
      "Epoch 9/10\n",
      "60000/60000 [==============================] - 32s 527us/sample - loss: 0.1390 - accuracy: 0.9517 - val_loss: 0.3272 - val_accuracy: 0.8951\n",
      "Epoch 10/10\n",
      "60000/60000 [==============================] - 31s 522us/sample - loss: 0.1208 - accuracy: 0.9591 - val_loss: 0.3351 - val_accuracy: 0.8939\n"
     ]
    },
    {
     "data": {
      "text/plain": [
       "<tensorflow.python.keras.callbacks.History at 0x1bf86fd4eb8>"
      ]
     },
     "execution_count": 17,
     "metadata": {},
     "output_type": "execute_result"
    }
   ],
   "source": [
    "#compile\n",
    "model.compile(loss='categorical_crossentropy',optimizer='adam',metrics=['accuracy'])\n",
    "\n",
    "#train\n",
    "model.fit(xtrain,ytrain,epochs=10,batch_size=1000,verbose=True,validation_data=(xtest,ytest))"
   ]
  },
  {
   "cell_type": "code",
   "execution_count": null,
   "metadata": {},
   "outputs": [],
   "source": []
  }
 ],
 "metadata": {
  "kernelspec": {
   "display_name": "Python 3",
   "language": "python",
   "name": "python3"
  },
  "language_info": {
   "codemirror_mode": {
    "name": "ipython",
    "version": 3
   },
   "file_extension": ".py",
   "mimetype": "text/x-python",
   "name": "python",
   "nbconvert_exporter": "python",
   "pygments_lexer": "ipython3",
   "version": "3.7.3"
  }
 },
 "nbformat": 4,
 "nbformat_minor": 2
}
